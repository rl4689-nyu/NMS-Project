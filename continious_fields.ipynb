{
 "cells": [
  {
   "cell_type": "code",
   "execution_count": null,
   "id": "bdca6657",
   "metadata": {},
   "outputs": [],
   "source": [
    "import pandas as pd\n",
    "import numpy as np\n",
    "import matplotlib.pyplot as plt\n",
    "import seaborn as sns\n",
    "from matplotlib import rcParams\n",
    "rcParams.update({'font.size': 12})"
   ]
  },
  {
   "cell_type": "code",
   "execution_count": null,
   "id": "b72e7e67",
   "metadata": {},
   "outputs": [],
   "source": [
    "datasets = [\"ugr16\", \"cidds\", \"ton\"]\n",
    "traces = dict()\n",
    "traces_netshare = dict()\n",
    "traces_stan = dict()\n",
    "for d in datasets:\n",
    "    traces[d] = pd.read_csv(\"data/raw/\"+d+\"/raw.csv\")\n",
    "    traces_netshare[d] = pd.read_csv(\"data/netshare/\"+d+\"/syn.csv\")\n",
    "    traces_stan[d] = pd.read_csv(\"data/stan/\"+d+\"/syn.csv\")"
   ]
  },
  {
   "cell_type": "code",
   "execution_count": null,
   "id": "924f1ee6",
   "metadata": {},
   "outputs": [],
   "source": [
    "for d in datasets:\n",
    "    traces[d]['delta_ts'] = traces[d]['ts'].diff().fillna(0)\n",
    "    traces_netshare[d]['delta_ts'] = traces_netshare[d]['ts'].diff().fillna(0)\n",
    "    traces_stan[d]['delta_ts'] = traces_stan[d]['ts'].diff().fillna(0)"
   ]
  },
  {
   "cell_type": "code",
   "execution_count": null,
   "id": "e4ddaf86",
   "metadata": {
    "scrolled": false
   },
   "outputs": [],
   "source": [
    "plt.figure(figsize=(12,8))\n",
    "for i, field in enumerate([\"pkt\", \"byt\"]):\n",
    "    for j, d in enumerate(datasets):\n",
    "\n",
    "        pkt = traces[d][[field]]\n",
    "        pkt_netshare = traces_netshare[d][[field]]\n",
    "        pkt_stan = traces_stan[d][[field]]\n",
    "\n",
    "        pkt[\"label\"] = \"real\"\n",
    "        pkt_netshare[\"label\"] = \"NetShare\"\n",
    "        pkt_stan[\"label\"] = \"STAN\"\n",
    "\n",
    "        all_pkt = pd.concat([pkt, pkt_netshare, pkt_stan])\n",
    "        all_pkt = all_pkt.reset_index()\n",
    "        all_pkt[field] = all_pkt[field].astype(int)\n",
    "        #print(all_counts)\n",
    "        plt.subplot(2,3,i*3+j+1)\n",
    "        sns.ecdfplot(data=all_pkt, x=field, hue=\"label\", log_scale=True)\n",
    "        if field == \"pkt\":\n",
    "            plt.xlabel(\"#packets per record\")\n",
    "        else:\n",
    "            plt.xlabel(\"#bytes per record\")\n",
    "        if i==0:\n",
    "            plt.title(d.upper())\n",
    "        if j==0:\n",
    "            plt.ylabel(\"CDF\")\n",
    "        else:\n",
    "            plt.ylabel(\"\")\n",
    "        \n",
    "        #plt.show()\n",
    "    "
   ]
  },
  {
   "cell_type": "code",
   "execution_count": null,
   "id": "72675e77",
   "metadata": {
    "scrolled": false
   },
   "outputs": [],
   "source": [
    "plt.figure(figsize=(12,8))\n",
    "for i, field in enumerate([\"delta_ts\",\"td\"]):\n",
    "    for j, d in enumerate(datasets):\n",
    "\n",
    "        pkt = traces[d][[field]]\n",
    "        pkt_netshare = traces_netshare[d][[field]]\n",
    "        pkt_stan = traces_stan[d][[field]]\n",
    "\n",
    "        pkt[\"label\"] = \"real\"\n",
    "        pkt_netshare[\"label\"] = \"NetShare\"\n",
    "        pkt_stan[\"label\"] = \"STAN\"\n",
    "\n",
    "        all_pkt = pd.concat([pkt, pkt_netshare, pkt_stan])\n",
    "        all_pkt = all_pkt.reset_index()\n",
    "        \n",
    "        if field =='td':\n",
    "            all_pkt[field] = all_pkt[field] * 1e-3\n",
    "        else:\n",
    "            all_pkt[field] = all_pkt[field] * 1e-6\n",
    "        #print(all_counts)\n",
    "        plt.subplot(2,3,i*3+j+1)\n",
    "        sns.ecdfplot(data=all_pkt, x=field, hue=\"label\", log_scale=True)\n",
    "        if field == \"td\":\n",
    "            plt.xlabel(\"Flow duration(s)\")\n",
    "        else:\n",
    "            plt.xlabel(\"Interarrival of flow start time(s)\")\n",
    "        if i==0:\n",
    "            plt.title(d.upper())\n",
    "        if j==0:\n",
    "            plt.ylabel(\"CDF\")\n",
    "        else:\n",
    "            plt.ylabel(\"\")\n",
    "        #plt.show()\n",
    "    "
   ]
  }
 ],
 "metadata": {
  "kernelspec": {
   "display_name": "general",
   "language": "python",
   "name": "general"
  },
  "language_info": {
   "codemirror_mode": {
    "name": "ipython",
    "version": 3
   },
   "file_extension": ".py",
   "mimetype": "text/x-python",
   "name": "python",
   "nbconvert_exporter": "python",
   "pygments_lexer": "ipython3",
   "version": "3.10.9"
  }
 },
 "nbformat": 4,
 "nbformat_minor": 5
}
