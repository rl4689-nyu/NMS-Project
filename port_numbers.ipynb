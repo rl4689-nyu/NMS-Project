{
 "cells": [
  {
   "cell_type": "code",
   "execution_count": null,
   "id": "294ab462",
   "metadata": {},
   "outputs": [],
   "source": [
    "import pandas as pd\n",
    "import numpy as np\n",
    "import matplotlib.pyplot as plt\n",
    "import seaborn as sns\n",
    "from matplotlib import rcParams\n",
    "rcParams.update({'font.size': 12})"
   ]
  },
  {
   "cell_type": "code",
   "execution_count": null,
   "id": "49348ade",
   "metadata": {},
   "outputs": [],
   "source": [
    "datasets = [\"ugr16\", \"cidds\", \"ton\"]\n",
    "traces = dict()\n",
    "traces_netshare = dict()\n",
    "traces_stan = dict()\n",
    "for d in datasets:\n",
    "    traces[d] = pd.read_csv(\"data/raw/\"+d+\"/raw.csv\")\n",
    "    traces_netshare[d] = pd.read_csv(\"data/netshare/\"+d+\"/syn.csv\")\n",
    "    traces_stan[d] = pd.read_csv(\"data/stan/\"+d+\"/syn.csv\")"
   ]
  },
  {
   "cell_type": "code",
   "execution_count": null,
   "id": "325a6e50",
   "metadata": {},
   "outputs": [],
   "source": [
    "plt.figure(figsize=(12,3))\n",
    "for i, d in enumerate(datasets):\n",
    "    \n",
    "    ports = traces[d]['dstport']\n",
    "    ports_netshare = traces_netshare[d]['dstport']\n",
    "    ports_stan = traces_stan[d]['dstport']\n",
    "    \n",
    "    ports = ports[ports < 1024]\n",
    "    ports_netshare = ports_netshare[ports_netshare < 1024]\n",
    "    ports_stan = ports_stan[ports_stan < 1024]\n",
    "    \n",
    "    ports = ports.value_counts() / len(traces[d])\n",
    "    ports_netshare = ports_netshare.value_counts() / len(traces_netshare[d])\n",
    "    ports_stan = ports_stan.value_counts() / len(traces_stan[d])\n",
    "    \n",
    "    ports = pd.DataFrame({\"port\":ports.index, \"count\":ports.values, \"label\":\"real\"})\n",
    "    ports_netshare = pd.DataFrame({\"port\":ports_netshare.index, \"count\":ports_netshare.values, \"label\":\"NetShare\"})\n",
    "    ports_stan = pd.DataFrame({\"port\":ports_stan.index, \"count\":ports_stan.values, \"label\":\"STAN\"})\n",
    "    \n",
    "    ports = ports[:5]\n",
    "    for p in list(ports[\"port\"]):\n",
    "        if not p in list(ports_netshare[\"port\"]):\n",
    "            #print(p)\n",
    "            ports_netshare = pd.concat([ports_netshare, pd.DataFrame({\"port\":p, \"count\":0, \"label\":\"NetShare\"}, index=[p])])\n",
    "        if not p in list(ports_stan[\"port\"]):\n",
    "            ports_stan = pd.concat([ports_stan, pd.DataFrame({\"port\":p, \"count\":0, \"label\":\"STAN\"}, index=[p])])\n",
    "     \n",
    "    #print(ports)\n",
    "    #print(ports_syn)\n",
    "    #ports.index = ports[\"port\"]\n",
    "    ports_netshare.index = ports_netshare[\"port\"]\n",
    "    ports_stan.index = ports_stan[\"port\"]\n",
    "    \n",
    "    ports_netshare = ports_netshare.loc[list(ports[\"port\"])]\n",
    "    ports_stan = ports_stan.loc[list(ports[\"port\"])]\n",
    "    \n",
    "    all_ports = pd.concat([ports, ports_netshare, ports_stan])\n",
    "    all_ports[\"port\"] = all_ports[\"port\"].astype(\"string\")\n",
    "    #all_ports = all_ports.reset_index(drop=True)\n",
    "    #print(all_ports)\n",
    "    plt.subplot(1,3,i+1)\n",
    "    sns.barplot(data=all_ports, x=\"port\", y=\"count\", hue=\"label\")\n",
    "    plt.xlabel(\"\")\n",
    "    if i==0:\n",
    "        plt.ylabel(\"Frequency\")\n",
    "    else:\n",
    "        plt.ylabel(\"\")\n",
    "    plt.title(d.upper())\n",
    "    #plt.show()\n",
    "    \n",
    "plt.suptitle(\"Top 5 service destination port numbers\", y=0.0)\n",
    "    "
   ]
  }
 ],
 "metadata": {
  "kernelspec": {
   "display_name": "general",
   "language": "python",
   "name": "general"
  },
  "language_info": {
   "codemirror_mode": {
    "name": "ipython",
    "version": 3
   },
   "file_extension": ".py",
   "mimetype": "text/x-python",
   "name": "python",
   "nbconvert_exporter": "python",
   "pygments_lexer": "ipython3",
   "version": "3.10.9"
  }
 },
 "nbformat": 4,
 "nbformat_minor": 5
}
